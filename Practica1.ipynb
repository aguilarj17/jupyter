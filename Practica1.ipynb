{
 "cells": [
  {
   "cell_type": "code",
   "execution_count": 1,
   "metadata": {},
   "outputs": [],
   "source": [
    "from pandas import read_csv\n",
    "import numpy as np\n",
    "import pandas as pd"
   ]
  },
  {
   "cell_type": "code",
   "execution_count": 2,
   "metadata": {},
   "outputs": [],
   "source": [
    "df = pd.read_csv('individuos.csv')"
   ]
  },
  {
   "cell_type": "code",
   "execution_count": 3,
   "metadata": {},
   "outputs": [
    {
     "data": {
      "text/html": [
       "<div>\n",
       "<style scoped>\n",
       "    .dataframe tbody tr th:only-of-type {\n",
       "        vertical-align: middle;\n",
       "    }\n",
       "\n",
       "    .dataframe tbody tr th {\n",
       "        vertical-align: top;\n",
       "    }\n",
       "\n",
       "    .dataframe thead th {\n",
       "        text-align: right;\n",
       "    }\n",
       "</style>\n",
       "<table border=\"1\" class=\"dataframe\">\n",
       "  <thead>\n",
       "    <tr style=\"text-align: right;\">\n",
       "      <th></th>\n",
       "      <th>individuo</th>\n",
       "      <th>origen</th>\n",
       "      <th>peso</th>\n",
       "      <th>tamano</th>\n",
       "    </tr>\n",
       "  </thead>\n",
       "  <tbody>\n",
       "    <tr>\n",
       "      <th>0</th>\n",
       "      <td>cam01</td>\n",
       "      <td>Alemania</td>\n",
       "      <td>18</td>\n",
       "      <td>26.0</td>\n",
       "    </tr>\n",
       "    <tr>\n",
       "      <th>1</th>\n",
       "      <td>cam02</td>\n",
       "      <td>Alemania</td>\n",
       "      <td>38</td>\n",
       "      <td>62.0</td>\n",
       "    </tr>\n",
       "    <tr>\n",
       "      <th>2</th>\n",
       "      <td>cam03</td>\n",
       "      <td>Alemania</td>\n",
       "      <td>39</td>\n",
       "      <td>59.5</td>\n",
       "    </tr>\n",
       "    <tr>\n",
       "      <th>3</th>\n",
       "      <td>cam04</td>\n",
       "      <td>Alemania</td>\n",
       "      <td>28</td>\n",
       "      <td>41.0</td>\n",
       "    </tr>\n",
       "    <tr>\n",
       "      <th>4</th>\n",
       "      <td>cam05</td>\n",
       "      <td>Alemania</td>\n",
       "      <td>7</td>\n",
       "      <td>13.5</td>\n",
       "    </tr>\n",
       "    <tr>\n",
       "      <th>5</th>\n",
       "      <td>cam06</td>\n",
       "      <td>Alemania</td>\n",
       "      <td>29</td>\n",
       "      <td>46.5</td>\n",
       "    </tr>\n",
       "    <tr>\n",
       "      <th>6</th>\n",
       "      <td>cam07</td>\n",
       "      <td>Alemania</td>\n",
       "      <td>19</td>\n",
       "      <td>25.5</td>\n",
       "    </tr>\n",
       "    <tr>\n",
       "      <th>7</th>\n",
       "      <td>cam08</td>\n",
       "      <td>Alemania</td>\n",
       "      <td>25</td>\n",
       "      <td>40.5</td>\n",
       "    </tr>\n",
       "    <tr>\n",
       "      <th>8</th>\n",
       "      <td>cam09</td>\n",
       "      <td>Alemania</td>\n",
       "      <td>40</td>\n",
       "      <td>59.0</td>\n",
       "    </tr>\n",
       "    <tr>\n",
       "      <th>9</th>\n",
       "      <td>cam10</td>\n",
       "      <td>Alemania</td>\n",
       "      <td>16</td>\n",
       "      <td>19.0</td>\n",
       "    </tr>\n",
       "    <tr>\n",
       "      <th>10</th>\n",
       "      <td>tur01</td>\n",
       "      <td>Inglaterra</td>\n",
       "      <td>26</td>\n",
       "      <td>39.0</td>\n",
       "    </tr>\n",
       "    <tr>\n",
       "      <th>11</th>\n",
       "      <td>tur02</td>\n",
       "      <td>Inglaterra</td>\n",
       "      <td>17</td>\n",
       "      <td>21.5</td>\n",
       "    </tr>\n",
       "    <tr>\n",
       "      <th>12</th>\n",
       "      <td>tur03</td>\n",
       "      <td>Inglaterra</td>\n",
       "      <td>32</td>\n",
       "      <td>49.0</td>\n",
       "    </tr>\n",
       "    <tr>\n",
       "      <th>13</th>\n",
       "      <td>tur04</td>\n",
       "      <td>Inglaterra</td>\n",
       "      <td>21</td>\n",
       "      <td>31.5</td>\n",
       "    </tr>\n",
       "    <tr>\n",
       "      <th>14</th>\n",
       "      <td>tur05</td>\n",
       "      <td>Inglaterra</td>\n",
       "      <td>21</td>\n",
       "      <td>27.5</td>\n",
       "    </tr>\n",
       "    <tr>\n",
       "      <th>15</th>\n",
       "      <td>pet01</td>\n",
       "      <td>Inglaterra</td>\n",
       "      <td>6</td>\n",
       "      <td>11.0</td>\n",
       "    </tr>\n",
       "    <tr>\n",
       "      <th>16</th>\n",
       "      <td>pet02</td>\n",
       "      <td>Italia</td>\n",
       "      <td>8</td>\n",
       "      <td>12.0</td>\n",
       "    </tr>\n",
       "    <tr>\n",
       "      <th>17</th>\n",
       "      <td>pet03</td>\n",
       "      <td>Italia</td>\n",
       "      <td>28</td>\n",
       "      <td>40.0</td>\n",
       "    </tr>\n",
       "    <tr>\n",
       "      <th>18</th>\n",
       "      <td>pet04</td>\n",
       "      <td>Italia</td>\n",
       "      <td>10</td>\n",
       "      <td>15.0</td>\n",
       "    </tr>\n",
       "    <tr>\n",
       "      <th>19</th>\n",
       "      <td>pet05</td>\n",
       "      <td>Italia</td>\n",
       "      <td>19</td>\n",
       "      <td>28.5</td>\n",
       "    </tr>\n",
       "    <tr>\n",
       "      <th>20</th>\n",
       "      <td>pet06</td>\n",
       "      <td>Italia</td>\n",
       "      <td>13</td>\n",
       "      <td>17.5</td>\n",
       "    </tr>\n",
       "    <tr>\n",
       "      <th>21</th>\n",
       "      <td>pet07</td>\n",
       "      <td>Italia</td>\n",
       "      <td>16</td>\n",
       "      <td>29.0</td>\n",
       "    </tr>\n",
       "    <tr>\n",
       "      <th>22</th>\n",
       "      <td>pet08</td>\n",
       "      <td>Italia</td>\n",
       "      <td>15</td>\n",
       "      <td>20.5</td>\n",
       "    </tr>\n",
       "    <tr>\n",
       "      <th>23</th>\n",
       "      <td>pet09</td>\n",
       "      <td>Italia</td>\n",
       "      <td>36</td>\n",
       "      <td>54.0</td>\n",
       "    </tr>\n",
       "    <tr>\n",
       "      <th>24</th>\n",
       "      <td>pet10</td>\n",
       "      <td>Francia</td>\n",
       "      <td>39</td>\n",
       "      <td>53.5</td>\n",
       "    </tr>\n",
       "    <tr>\n",
       "      <th>25</th>\n",
       "      <td>tur06</td>\n",
       "      <td>Francia</td>\n",
       "      <td>33</td>\n",
       "      <td>49.5</td>\n",
       "    </tr>\n",
       "    <tr>\n",
       "      <th>26</th>\n",
       "      <td>tur07</td>\n",
       "      <td>Francia</td>\n",
       "      <td>31</td>\n",
       "      <td>43.5</td>\n",
       "    </tr>\n",
       "    <tr>\n",
       "      <th>27</th>\n",
       "      <td>tur08</td>\n",
       "      <td>Francia</td>\n",
       "      <td>9</td>\n",
       "      <td>15.5</td>\n",
       "    </tr>\n",
       "    <tr>\n",
       "      <th>28</th>\n",
       "      <td>tur09</td>\n",
       "      <td>Francia</td>\n",
       "      <td>10</td>\n",
       "      <td>17.0</td>\n",
       "    </tr>\n",
       "    <tr>\n",
       "      <th>29</th>\n",
       "      <td>tur10</td>\n",
       "      <td>Francia</td>\n",
       "      <td>5</td>\n",
       "      <td>11.5</td>\n",
       "    </tr>\n",
       "    <tr>\n",
       "      <th>30</th>\n",
       "      <td>tur11</td>\n",
       "      <td>Francia</td>\n",
       "      <td>20</td>\n",
       "      <td>26.0</td>\n",
       "    </tr>\n",
       "    <tr>\n",
       "      <th>31</th>\n",
       "      <td>tur12</td>\n",
       "      <td>Francia</td>\n",
       "      <td>27</td>\n",
       "      <td>43.5</td>\n",
       "    </tr>\n",
       "  </tbody>\n",
       "</table>\n",
       "</div>"
      ],
      "text/plain": [
       "   individuo      origen  peso  tamano\n",
       "0      cam01    Alemania    18    26.0\n",
       "1      cam02    Alemania    38    62.0\n",
       "2      cam03    Alemania    39    59.5\n",
       "3      cam04    Alemania    28    41.0\n",
       "4      cam05    Alemania     7    13.5\n",
       "5      cam06    Alemania    29    46.5\n",
       "6      cam07    Alemania    19    25.5\n",
       "7      cam08    Alemania    25    40.5\n",
       "8      cam09    Alemania    40    59.0\n",
       "9      cam10    Alemania    16    19.0\n",
       "10     tur01  Inglaterra    26    39.0\n",
       "11     tur02  Inglaterra    17    21.5\n",
       "12     tur03  Inglaterra    32    49.0\n",
       "13     tur04  Inglaterra    21    31.5\n",
       "14     tur05  Inglaterra    21    27.5\n",
       "15     pet01  Inglaterra     6    11.0\n",
       "16     pet02      Italia     8    12.0\n",
       "17     pet03      Italia    28    40.0\n",
       "18     pet04      Italia    10    15.0\n",
       "19     pet05      Italia    19    28.5\n",
       "20     pet06      Italia    13    17.5\n",
       "21     pet07      Italia    16    29.0\n",
       "22     pet08      Italia    15    20.5\n",
       "23     pet09      Italia    36    54.0\n",
       "24     pet10     Francia    39    53.5\n",
       "25     tur06     Francia    33    49.5\n",
       "26     tur07     Francia    31    43.5\n",
       "27     tur08     Francia     9    15.5\n",
       "28     tur09     Francia    10    17.0\n",
       "29     tur10     Francia     5    11.5\n",
       "30     tur11     Francia    20    26.0\n",
       "31     tur12     Francia    27    43.5"
      ]
     },
     "execution_count": 3,
     "metadata": {},
     "output_type": "execute_result"
    }
   ],
   "source": [
    "df\n"
   ]
  },
  {
   "cell_type": "code",
   "execution_count": 4,
   "metadata": {},
   "outputs": [
    {
     "data": {
      "text/plain": [
       "32"
      ]
     },
     "execution_count": 4,
     "metadata": {},
     "output_type": "execute_result"
    }
   ],
   "source": [
    "len(df)"
   ]
  },
  {
   "cell_type": "code",
   "execution_count": 5,
   "metadata": {},
   "outputs": [
    {
     "data": {
      "text/plain": [
       "True"
      ]
     },
     "execution_count": 5,
     "metadata": {},
     "output_type": "execute_result"
    }
   ],
   "source": [
    "'individuo' in df"
   ]
  },
  {
   "cell_type": "code",
   "execution_count": 6,
   "metadata": {},
   "outputs": [
    {
     "name": "stdout",
     "output_type": "stream",
     "text": [
      "object\n",
      "object\n",
      "int64\n",
      "float64\n"
     ]
    }
   ],
   "source": [
    "print(df['individuo'].dtypes)\n",
    "print(df['origen'].dtypes)\n",
    "print(df['peso'].dtypes)\n",
    "print(df['tamano'].dtypes)"
   ]
  },
  {
   "cell_type": "code",
   "execution_count": null,
   "metadata": {},
   "outputs": [],
   "source": []
  },
  {
   "cell_type": "code",
   "execution_count": 7,
   "metadata": {},
   "outputs": [
    {
     "data": {
      "text/html": [
       "<div>\n",
       "<style scoped>\n",
       "    .dataframe tbody tr th:only-of-type {\n",
       "        vertical-align: middle;\n",
       "    }\n",
       "\n",
       "    .dataframe tbody tr th {\n",
       "        vertical-align: top;\n",
       "    }\n",
       "\n",
       "    .dataframe thead th {\n",
       "        text-align: right;\n",
       "    }\n",
       "</style>\n",
       "<table border=\"1\" class=\"dataframe\">\n",
       "  <thead>\n",
       "    <tr style=\"text-align: right;\">\n",
       "      <th></th>\n",
       "      <th>origen</th>\n",
       "      <th>peso</th>\n",
       "      <th>tamano</th>\n",
       "    </tr>\n",
       "    <tr>\n",
       "      <th>individuo</th>\n",
       "      <th></th>\n",
       "      <th></th>\n",
       "      <th></th>\n",
       "    </tr>\n",
       "  </thead>\n",
       "  <tbody>\n",
       "    <tr>\n",
       "      <th>cam01</th>\n",
       "      <td>Alemania</td>\n",
       "      <td>18</td>\n",
       "      <td>26.0</td>\n",
       "    </tr>\n",
       "    <tr>\n",
       "      <th>cam02</th>\n",
       "      <td>Alemania</td>\n",
       "      <td>38</td>\n",
       "      <td>62.0</td>\n",
       "    </tr>\n",
       "    <tr>\n",
       "      <th>cam03</th>\n",
       "      <td>Alemania</td>\n",
       "      <td>39</td>\n",
       "      <td>59.5</td>\n",
       "    </tr>\n",
       "    <tr>\n",
       "      <th>cam04</th>\n",
       "      <td>Alemania</td>\n",
       "      <td>28</td>\n",
       "      <td>41.0</td>\n",
       "    </tr>\n",
       "    <tr>\n",
       "      <th>cam05</th>\n",
       "      <td>Alemania</td>\n",
       "      <td>7</td>\n",
       "      <td>13.5</td>\n",
       "    </tr>\n",
       "  </tbody>\n",
       "</table>\n",
       "</div>"
      ],
      "text/plain": [
       "             origen  peso  tamano\n",
       "individuo                        \n",
       "cam01      Alemania    18    26.0\n",
       "cam02      Alemania    38    62.0\n",
       "cam03      Alemania    39    59.5\n",
       "cam04      Alemania    28    41.0\n",
       "cam05      Alemania     7    13.5"
      ]
     },
     "execution_count": 7,
     "metadata": {},
     "output_type": "execute_result"
    }
   ],
   "source": [
    "data = pd.read_csv(\"individuos.csv\", index_col = \"individuo\")\n",
    "data.head()"
   ]
  },
  {
   "cell_type": "code",
   "execution_count": 8,
   "metadata": {},
   "outputs": [
    {
     "name": "stdout",
     "output_type": "stream",
     "text": [
      "38\n"
     ]
    }
   ],
   "source": [
    "#weight of the second individual\n",
    "print(data['peso']['cam02'])"
   ]
  },
  {
   "cell_type": "code",
   "execution_count": 9,
   "metadata": {},
   "outputs": [
    {
     "name": "stdout",
     "output_type": "stream",
     "text": [
      "18\n"
     ]
    }
   ],
   "source": [
    "#weight of the first individual\n",
    "print(data['peso']['cam01'])"
   ]
  },
  {
   "cell_type": "code",
   "execution_count": 10,
   "metadata": {},
   "outputs": [
    {
     "name": "stdout",
     "output_type": "stream",
     "text": [
      "32\n"
     ]
    }
   ],
   "source": [
    "#weight of the tur03\n",
    "print(data['peso']['tur03'])"
   ]
  },
  {
   "cell_type": "code",
   "execution_count": 11,
   "metadata": {},
   "outputs": [
    {
     "name": "stdout",
     "output_type": "stream",
     "text": [
      "19\n"
     ]
    }
   ],
   "source": [
    "#weight of the pet05\n",
    "print(data['peso']['pet05'])"
   ]
  },
  {
   "cell_type": "code",
   "execution_count": 18,
   "metadata": {},
   "outputs": [
    {
     "name": "stdout",
     "output_type": "stream",
     "text": [
      "origen    Italia\n",
      "peso          40\n",
      "tamano        62\n",
      "dtype: object\n"
     ]
    }
   ],
   "source": [
    "#max of each column  \n",
    "print(data.max())"
   ]
  },
  {
   "cell_type": "code",
   "execution_count": 19,
   "metadata": {},
   "outputs": [
    {
     "name": "stdout",
     "output_type": "stream",
     "text": [
      "             origen  peso  tamano\n",
      "individuo                        \n",
      "cam02      Alemania    38    62.0\n"
     ]
    }
   ],
   "source": [
    "#the biggest size \n",
    "print(data[data.tamano == data.tamano.max()])"
   ]
  },
  {
   "cell_type": "code",
   "execution_count": 20,
   "metadata": {},
   "outputs": [
    {
     "name": "stdout",
     "output_type": "stream",
     "text": [
      "             origen  peso  tamano\n",
      "individuo                        \n",
      "cam09      Alemania    40    59.0\n"
     ]
    }
   ],
   "source": [
    "#the bigest weight\n",
    "print(data[data.peso == data.peso.max()])"
   ]
  },
  {
   "cell_type": "code",
   "execution_count": 21,
   "metadata": {},
   "outputs": [
    {
     "data": {
      "text/plain": [
       "peso      20.50\n",
       "tamano    28.75\n",
       "dtype: float64"
      ]
     },
     "execution_count": 21,
     "metadata": {},
     "output_type": "execute_result"
    }
   ],
   "source": [
    "data.median()"
   ]
  },
  {
   "cell_type": "code",
   "execution_count": 25,
   "metadata": {},
   "outputs": [
    {
     "data": {
      "text/html": [
       "<div>\n",
       "<style scoped>\n",
       "    .dataframe tbody tr th:only-of-type {\n",
       "        vertical-align: middle;\n",
       "    }\n",
       "\n",
       "    .dataframe tbody tr th {\n",
       "        vertical-align: top;\n",
       "    }\n",
       "\n",
       "    .dataframe thead th {\n",
       "        text-align: right;\n",
       "    }\n",
       "</style>\n",
       "<table border=\"1\" class=\"dataframe\">\n",
       "  <thead>\n",
       "    <tr style=\"text-align: right;\">\n",
       "      <th></th>\n",
       "      <th>individuo</th>\n",
       "      <th>peso</th>\n",
       "      <th>tamano</th>\n",
       "    </tr>\n",
       "    <tr>\n",
       "      <th>origen</th>\n",
       "      <th></th>\n",
       "      <th></th>\n",
       "      <th></th>\n",
       "    </tr>\n",
       "  </thead>\n",
       "  <tbody>\n",
       "    <tr>\n",
       "      <th>Alemania</th>\n",
       "      <td>cam01</td>\n",
       "      <td>18</td>\n",
       "      <td>26.0</td>\n",
       "    </tr>\n",
       "    <tr>\n",
       "      <th>Alemania</th>\n",
       "      <td>cam02</td>\n",
       "      <td>38</td>\n",
       "      <td>62.0</td>\n",
       "    </tr>\n",
       "    <tr>\n",
       "      <th>Alemania</th>\n",
       "      <td>cam03</td>\n",
       "      <td>39</td>\n",
       "      <td>59.5</td>\n",
       "    </tr>\n",
       "    <tr>\n",
       "      <th>Alemania</th>\n",
       "      <td>cam04</td>\n",
       "      <td>28</td>\n",
       "      <td>41.0</td>\n",
       "    </tr>\n",
       "    <tr>\n",
       "      <th>Alemania</th>\n",
       "      <td>cam05</td>\n",
       "      <td>7</td>\n",
       "      <td>13.5</td>\n",
       "    </tr>\n",
       "  </tbody>\n",
       "</table>\n",
       "</div>"
      ],
      "text/plain": [
       "         individuo  peso  tamano\n",
       "origen                          \n",
       "Alemania     cam01    18    26.0\n",
       "Alemania     cam02    38    62.0\n",
       "Alemania     cam03    39    59.5\n",
       "Alemania     cam04    28    41.0\n",
       "Alemania     cam05     7    13.5"
      ]
     },
     "execution_count": 25,
     "metadata": {},
     "output_type": "execute_result"
    }
   ],
   "source": [
    "data_media = pd.read_csv(\"individuos.csv\", index_col = \"origen\")\n",
    "data_media.head()"
   ]
  },
  {
   "cell_type": "code",
   "execution_count": 26,
   "metadata": {},
   "outputs": [
    {
     "data": {
      "text/plain": [
       "40.75"
      ]
     },
     "execution_count": 26,
     "metadata": {},
     "output_type": "execute_result"
    }
   ],
   "source": [
    "#media of the size in Alemania \n",
    "data_media.loc[\"Alemania\", \"tamano\"].median()"
   ]
  },
  {
   "cell_type": "code",
   "execution_count": 28,
   "metadata": {},
   "outputs": [
    {
     "data": {
      "text/plain": [
       "29.5"
      ]
     },
     "execution_count": 28,
     "metadata": {},
     "output_type": "execute_result"
    }
   ],
   "source": [
    "#media of the size in Inglaterra\n",
    "data_media.loc[\"Inglaterra\", \"tamano\"].median()"
   ]
  },
  {
   "cell_type": "code",
   "execution_count": 29,
   "metadata": {},
   "outputs": [
    {
     "data": {
      "text/plain": [
       "24.5"
      ]
     },
     "execution_count": 29,
     "metadata": {},
     "output_type": "execute_result"
    }
   ],
   "source": [
    "#media of the size in Italia\n",
    "data_media.loc[\"Italia\",\"tamano\"].median()"
   ]
  },
  {
   "cell_type": "code",
   "execution_count": 30,
   "metadata": {},
   "outputs": [
    {
     "data": {
      "text/plain": [
       "34.75"
      ]
     },
     "execution_count": 30,
     "metadata": {},
     "output_type": "execute_result"
    }
   ],
   "source": [
    "#media of the size in Francia\n",
    "data_media.loc[\"Francia\", \"tamano\"].median()"
   ]
  },
  {
   "cell_type": "code",
   "execution_count": 35,
   "metadata": {},
   "outputs": [
    {
     "data": {
      "text/html": [
       "<div>\n",
       "<style scoped>\n",
       "    .dataframe tbody tr th:only-of-type {\n",
       "        vertical-align: middle;\n",
       "    }\n",
       "\n",
       "    .dataframe tbody tr th {\n",
       "        vertical-align: top;\n",
       "    }\n",
       "\n",
       "    .dataframe thead th {\n",
       "        text-align: right;\n",
       "    }\n",
       "</style>\n",
       "<table border=\"1\" class=\"dataframe\">\n",
       "  <thead>\n",
       "    <tr style=\"text-align: right;\">\n",
       "      <th></th>\n",
       "      <th>peso</th>\n",
       "      <th>tamano</th>\n",
       "    </tr>\n",
       "  </thead>\n",
       "  <tbody>\n",
       "    <tr>\n",
       "      <th>peso</th>\n",
       "      <td>1.000000</td>\n",
       "      <td>0.984333</td>\n",
       "    </tr>\n",
       "    <tr>\n",
       "      <th>tamano</th>\n",
       "      <td>0.984333</td>\n",
       "      <td>1.000000</td>\n",
       "    </tr>\n",
       "  </tbody>\n",
       "</table>\n",
       "</div>"
      ],
      "text/plain": [
       "            peso    tamano\n",
       "peso    1.000000  0.984333\n",
       "tamano  0.984333  1.000000"
      ]
     },
     "execution_count": 35,
     "metadata": {},
     "output_type": "execute_result"
    }
   ],
   "source": [
    "#correlation beetween weight and size \n",
    "data.corr(method ='pearson')"
   ]
  },
  {
   "cell_type": "code",
   "execution_count": 38,
   "metadata": {},
   "outputs": [
    {
     "name": "stdout",
     "output_type": "stream",
     "text": [
      "           individuo  peso  tamano\n",
      "origen                            \n",
      "Inglaterra     tur01    26    39.0\n",
      "Inglaterra     tur02    17    21.5\n",
      "Inglaterra     tur03    32    49.0\n",
      "Inglaterra     tur04    21    31.5\n",
      "Inglaterra     tur05    21    27.5\n",
      "Inglaterra     pet01     6    11.0\n"
     ]
    }
   ],
   "source": [
    "Ing = data_media.loc[\"Inglaterra\", :]\n",
    "print(Ing)"
   ]
  },
  {
   "cell_type": "code",
   "execution_count": 39,
   "metadata": {},
   "outputs": [],
   "source": [
    "Inglaterra = pd.DataFrame(Ing)"
   ]
  },
  {
   "cell_type": "code",
   "execution_count": 41,
   "metadata": {},
   "outputs": [
    {
     "data": {
      "text/html": [
       "<div>\n",
       "<style scoped>\n",
       "    .dataframe tbody tr th:only-of-type {\n",
       "        vertical-align: middle;\n",
       "    }\n",
       "\n",
       "    .dataframe tbody tr th {\n",
       "        vertical-align: top;\n",
       "    }\n",
       "\n",
       "    .dataframe thead th {\n",
       "        text-align: right;\n",
       "    }\n",
       "</style>\n",
       "<table border=\"1\" class=\"dataframe\">\n",
       "  <thead>\n",
       "    <tr style=\"text-align: right;\">\n",
       "      <th></th>\n",
       "      <th>individuo</th>\n",
       "      <th>peso</th>\n",
       "      <th>tamano</th>\n",
       "    </tr>\n",
       "    <tr>\n",
       "      <th>origen</th>\n",
       "      <th></th>\n",
       "      <th></th>\n",
       "      <th></th>\n",
       "    </tr>\n",
       "  </thead>\n",
       "  <tbody>\n",
       "    <tr>\n",
       "      <th>Inglaterra</th>\n",
       "      <td>tur01</td>\n",
       "      <td>26</td>\n",
       "      <td>39.0</td>\n",
       "    </tr>\n",
       "    <tr>\n",
       "      <th>Inglaterra</th>\n",
       "      <td>tur02</td>\n",
       "      <td>17</td>\n",
       "      <td>21.5</td>\n",
       "    </tr>\n",
       "    <tr>\n",
       "      <th>Inglaterra</th>\n",
       "      <td>tur03</td>\n",
       "      <td>32</td>\n",
       "      <td>49.0</td>\n",
       "    </tr>\n",
       "    <tr>\n",
       "      <th>Inglaterra</th>\n",
       "      <td>tur04</td>\n",
       "      <td>21</td>\n",
       "      <td>31.5</td>\n",
       "    </tr>\n",
       "    <tr>\n",
       "      <th>Inglaterra</th>\n",
       "      <td>tur05</td>\n",
       "      <td>21</td>\n",
       "      <td>27.5</td>\n",
       "    </tr>\n",
       "    <tr>\n",
       "      <th>Inglaterra</th>\n",
       "      <td>pet01</td>\n",
       "      <td>6</td>\n",
       "      <td>11.0</td>\n",
       "    </tr>\n",
       "  </tbody>\n",
       "</table>\n",
       "</div>"
      ],
      "text/plain": [
       "           individuo  peso  tamano\n",
       "origen                            \n",
       "Inglaterra     tur01    26    39.0\n",
       "Inglaterra     tur02    17    21.5\n",
       "Inglaterra     tur03    32    49.0\n",
       "Inglaterra     tur04    21    31.5\n",
       "Inglaterra     tur05    21    27.5\n",
       "Inglaterra     pet01     6    11.0"
      ]
     },
     "execution_count": 41,
     "metadata": {},
     "output_type": "execute_result"
    }
   ],
   "source": [
    "#DataFrame of individuals of Inglaterra\n",
    "Inglaterra"
   ]
  },
  {
   "cell_type": "code",
   "execution_count": null,
   "metadata": {},
   "outputs": [],
   "source": []
  }
 ],
 "metadata": {
  "kernelspec": {
   "display_name": "Python 3",
   "language": "python",
   "name": "python3"
  },
  "language_info": {
   "codemirror_mode": {
    "name": "ipython",
    "version": 3
   },
   "file_extension": ".py",
   "mimetype": "text/x-python",
   "name": "python",
   "nbconvert_exporter": "python",
   "pygments_lexer": "ipython3",
   "version": "3.7.7"
  }
 },
 "nbformat": 4,
 "nbformat_minor": 4
}
